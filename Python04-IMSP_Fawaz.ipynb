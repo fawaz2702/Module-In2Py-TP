{
 "cells": [
  {
   "cell_type": "markdown",
   "metadata": {},
   "source": [
    "1."
   ]
  },
  {
   "cell_type": "code",
   "execution_count": 7,
   "metadata": {},
   "outputs": [
    {
     "name": "stdout",
     "output_type": "stream",
     "text": [
      "{'Mangues': 200, 'Oranges': 350, 'Banane': 500, 'Avocat': 390}\n",
      "{'Mangues': 200, 'Oranges': 350, 'Banane': 500, 'Avocat': 390, 'Papaye': 325}\n",
      "{'Mangues': 200, 'Oranges': 350, 'Banane': 500, 'Avocat': 390, 'Papaye': 350}\n",
      "350\n"
     ]
    }
   ],
   "source": [
    "def ajout(x,produit,prix):\n",
    "    x[produit]=prix\n",
    "def changer_prix(x,produit,prix):\n",
    "    x[produit]=prix\n",
    "def consulter_prix(x,produit):\n",
    "    print(x[produit])\n",
    "x={'Mangues':200,'Oranges':350,'Banane':500,'Avocat':390}\n",
    "print(x)\n",
    "ajout(x,'Papaye',325)\n",
    "print(x)\n",
    "changer_prix(x,'Papaye',350)\n",
    "print(x)\n",
    "consulter_prix(x,'Papaye')"
   ]
  },
  {
   "cell_type": "markdown",
   "metadata": {},
   "source": [
    "2."
   ]
  },
  {
   "cell_type": "code",
   "execution_count": 22,
   "metadata": {},
   "outputs": [
    {
     "name": "stdout",
     "output_type": "stream",
     "text": [
      "Le telephone de  Victor  est  66293645\n",
      "Le telephone  95661715  a pour propriétaire  Patterson\n",
      "95661715\n",
      "99966478\n",
      "66293645\n",
      "97880419\n"
     ]
    }
   ],
   "source": [
    "def ajout_new(x,nom,telephone):\n",
    "    x[nom]=telephone\n",
    "def rechercher_telephone(x,nom):\n",
    "    if nom in x.keys():\n",
    "        print('Le telephone de ',nom,' est ',x[nom])\n",
    "    else:\n",
    "        print('Le nom n\\'existe pas dans la liste')\n",
    "\n",
    "def rechercher_nom(x,telephone):\n",
    "    if telephone in x.values():\n",
    "        for nom in x.keys():\n",
    "            if x[nom]==telephone:\n",
    "                name=nom\n",
    "                \n",
    "        print('Le telephone ',telephone,' a pour propriétaire ',name)\n",
    "    else:\n",
    "        print('Le telephone n\\'existe pas dans la liste')\n",
    "def liste_telephone(x):\n",
    "    for tel in x.values():\n",
    "        print(tel)\n",
    "x={'Patterson':'95661715','Mariel':'99966478','Victor':'66293645','Mike':'97880419'}\n",
    "\n",
    "rechercher_telephone(x,'Victor')\n",
    "\n",
    "rechercher_nom(x,'95661715')\n",
    "\n",
    "liste_telephone(x)"
   ]
  },
  {
   "cell_type": "markdown",
   "metadata": {},
   "source": [
    "3."
   ]
  },
  {
   "cell_type": "code",
   "execution_count": 36,
   "metadata": {},
   "outputs": [
    {
     "name": "stdout",
     "output_type": "stream",
     "text": [
      "Salut  a pour longueur  5\n",
      "Bonjour  a pour longueur  7\n",
      "Ecole  a pour longueur  5\n",
      "Contrat  a pour longueur  7\n",
      "Travailler  a pour longueur  10\n"
     ]
    }
   ],
   "source": [
    "def mapp(x,y):\n",
    "    for k in x:\n",
    "        y.append(len(k))\n",
    "\n",
    "x=['Salut','Bonjour','Ecole','Contrat','Travailler']\n",
    "y=[]\n",
    "mapp(x,y)\n",
    "\n",
    "for k in range(0,len(x)):\n",
    "    print(x[k],' a pour longueur ',y[k])\n"
   ]
  },
  {
   "cell_type": "markdown",
   "metadata": {},
   "source": [
    "4.\n"
   ]
  },
  {
   "cell_type": "code",
   "execution_count": 37,
   "metadata": {},
   "outputs": [
    {
     "name": "stdout",
     "output_type": "stream",
     "text": [
      "La longueur du plus grand mot est  10\n"
     ]
    }
   ],
   "source": [
    "def find_longest_word(x):\n",
    "    max=0\n",
    "    for mot in x:\n",
    "        if len(mot)>max:\n",
    "            max=len(mot)\n",
    "    print('La longueur du plus grand mot est ',max)\n",
    "\n",
    "\n",
    "x=['Salut','Bonjour','Ecole','Contrat','Travailler']\n",
    "find_longest_word(x)"
   ]
  },
  {
   "cell_type": "markdown",
   "metadata": {},
   "source": [
    "5."
   ]
  },
  {
   "cell_type": "code",
   "execution_count": 40,
   "metadata": {},
   "outputs": [
    {
     "name": "stdout",
     "output_type": "stream",
     "text": [
      "gott nytt ar och gott god jul \n"
     ]
    }
   ],
   "source": [
    "def translate(phrase,dictionnaire):\n",
    "    chaine=''\n",
    "    for mot in phrase.split():\n",
    "        chaine+=dictionnaire[mot]+' '\n",
    "    return chaine\n",
    "        \n",
    "dico={\"merry\":\"god\", \"christmas\":\"jul\", \"and\":\"och\", \"happy\":\"gott\", \"new\":\"nytt\", \"year\":\"ar\"}\n",
    "\n",
    "print(translate('happy new year and happy merry christmas',dico))"
   ]
  },
  {
   "cell_type": "markdown",
   "metadata": {},
   "source": [
    "6."
   ]
  },
  {
   "cell_type": "code",
   "execution_count": 46,
   "metadata": {},
   "outputs": [
    {
     "name": "stdout",
     "output_type": "stream",
     "text": [
      "True\n",
      "False\n",
      "True\n",
      "False\n"
     ]
    }
   ],
   "source": [
    "def is_member(x,liste):\n",
    "    reponse='False'\n",
    "    for k in range(0,len(liste)):\n",
    "        if liste[k]==x:\n",
    "            reponse='True'\n",
    "    return reponse        \n",
    "\n",
    "liste=[4,5,1,-45,12,78,64,-32]\n",
    "print(is_member('l','manlge'))\n",
    "print(is_member('l','partir'))\n",
    "print(is_member(12,liste))\n",
    "print(is_member(13,liste))"
   ]
  },
  {
   "cell_type": "markdown",
   "metadata": {},
   "source": [
    "7."
   ]
  },
  {
   "cell_type": "code",
   "execution_count": 55,
   "metadata": {},
   "outputs": [
    {
     "name": "stdout",
     "output_type": "stream",
     "text": [
      "****\n",
      "*********\n",
      "*******\n"
     ]
    }
   ],
   "source": [
    "def afficher(x):\n",
    "    st=''\n",
    "    for i in range(0,x):\n",
    "        st+='*'\n",
    "    print(st)\n",
    "def histogram(liste):\n",
    "    for k in range(0,len(liste)):\n",
    "        afficher(liste[k])\n",
    "        \n",
    "liste=[4, 9, 7]\n",
    "histogram(liste)"
   ]
  },
  {
   "cell_type": "markdown",
   "metadata": {},
   "source": [
    "8."
   ]
  },
  {
   "cell_type": "code",
   "execution_count": null,
   "metadata": {},
   "outputs": [],
   "source": [
    "def liste_students(students):\n",
    "    for i in range(0,len(students)):\n",
    "        print('Elève ',i)\n",
    "        print('Name :',students[i]['name'])\n",
    "        print('Homework :',students[i]['homework'])\n",
    "        print('Quizzes :',students[i]['quizzes'])\n",
    "        print('Tests:',students[i]['tests'])\n",
    "        print(' ------------------------------')\n",
    "\n",
    "def sum(numbers):\n",
    "    total=0\n",
    "    for i in range(0,len(numbers)):\n",
    "        total+=numbers[i]\n",
    "    return total\n",
    "\n",
    "def average(numbers):\n",
    "    return sum(numbers)/len(numbers)\n",
    "def get_average(student):\n",
    "    homework=average(student['homework'])\n",
    "    quizzes=average(student['quizzes'])\n",
    "    tests=average(student['tests'])\n",
    "    s=(homework*0.1)+ (quizzes*0.3)+(tests*60)\n",
    "    return s\n",
    "    \n",
    "Amour = {\n",
    "\"name\": \"Amour\",\n",
    "\"homework\": [90.0,97.0,75.0,92.0],\n",
    "\"quizzes\": [88.0,40.0,94.0],\n",
    "\"tests\": [75.0,90.0]\n",
    "}\n",
    "Paix = {\n",
    "\"name\": \"Paix\",\n",
    "\"homework\": [100.0, 92.0, 98.0, 100.0],\n",
    "\"quizzes\": [82.0, 83.0, 91.0],\n",
    "\"tests\": [89.0, 97.0]\n",
    "}\n",
    "Foi = {\n",
    "\"name\": \"Foi\",\n",
    "\"homework\": [0.0, 87.0, 75.0, 22.0],\n",
    "\"quizzes\": [0.0, 75.0, 78.0],\n",
    "\"tests\": [100.0, 100.0]\n",
    "}\n",
    "\n",
    "students=[Amour,Paix,Foi]\n",
    "liste_students(students)\n",
    "print(average([4,5,6]))"
   ]
  },
  {
   "cell_type": "code",
   "execution_count": null,
   "metadata": {},
   "outputs": [],
   "source": []
  },
  {
   "cell_type": "code",
   "execution_count": null,
   "metadata": {},
   "outputs": [],
   "source": []
  },
  {
   "cell_type": "code",
   "execution_count": null,
   "metadata": {},
   "outputs": [],
   "source": []
  },
  {
   "cell_type": "code",
   "execution_count": null,
   "metadata": {},
   "outputs": [],
   "source": []
  },
  {
   "cell_type": "code",
   "execution_count": null,
   "metadata": {},
   "outputs": [],
   "source": []
  },
  {
   "cell_type": "code",
   "execution_count": null,
   "metadata": {},
   "outputs": [],
   "source": []
  },
  {
   "cell_type": "code",
   "execution_count": null,
   "metadata": {},
   "outputs": [],
   "source": []
  },
  {
   "cell_type": "code",
   "execution_count": null,
   "metadata": {},
   "outputs": [],
   "source": []
  },
  {
   "cell_type": "code",
   "execution_count": null,
   "metadata": {},
   "outputs": [],
   "source": []
  },
  {
   "cell_type": "code",
   "execution_count": null,
   "metadata": {},
   "outputs": [],
   "source": []
  },
  {
   "cell_type": "code",
   "execution_count": null,
   "metadata": {},
   "outputs": [],
   "source": []
  },
  {
   "cell_type": "code",
   "execution_count": null,
   "metadata": {},
   "outputs": [],
   "source": []
  },
  {
   "cell_type": "code",
   "execution_count": null,
   "metadata": {},
   "outputs": [],
   "source": []
  },
  {
   "cell_type": "code",
   "execution_count": null,
   "metadata": {},
   "outputs": [],
   "source": []
  },
  {
   "cell_type": "code",
   "execution_count": null,
   "metadata": {},
   "outputs": [],
   "source": []
  },
  {
   "cell_type": "code",
   "execution_count": null,
   "metadata": {},
   "outputs": [],
   "source": []
  },
  {
   "cell_type": "code",
   "execution_count": null,
   "metadata": {},
   "outputs": [],
   "source": []
  },
  {
   "cell_type": "code",
   "execution_count": null,
   "metadata": {},
   "outputs": [],
   "source": []
  },
  {
   "cell_type": "code",
   "execution_count": null,
   "metadata": {},
   "outputs": [],
   "source": []
  },
  {
   "cell_type": "code",
   "execution_count": null,
   "metadata": {},
   "outputs": [],
   "source": []
  }
 ],
 "metadata": {
  "kernelspec": {
   "display_name": "Python 3",
   "language": "python",
   "name": "python3"
  },
  "language_info": {
   "codemirror_mode": {
    "name": "ipython",
    "version": 3
   },
   "file_extension": ".py",
   "mimetype": "text/x-python",
   "name": "python",
   "nbconvert_exporter": "python",
   "pygments_lexer": "ipython3",
   "version": "3.8.5"
  }
 },
 "nbformat": 4,
 "nbformat_minor": 4
}
