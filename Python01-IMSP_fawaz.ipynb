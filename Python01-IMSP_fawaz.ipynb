{
 "cells": [
  {
   "cell_type": "markdown",
   "id": "353bf74e",
   "metadata": {},
   "source": [
    "1.\n",
    "(i)"
   ]
  },
  {
   "cell_type": "code",
   "execution_count": 1,
   "id": "8b567d76",
   "metadata": {},
   "outputs": [
    {
     "name": "stdout",
     "output_type": "stream",
     "text": [
      "10\n"
     ]
    }
   ],
   "source": [
    "n=4\n",
    "i=0\n",
    "s=0\n",
    "while i <n :\n",
    "    if i%2:\n",
    "        s+=i+3\n",
    "       \n",
    "    i=i+1\n",
    "    \n",
    "\n",
    "print(s)"
   ]
  },
  {
   "cell_type": "markdown",
   "id": "a97c3575",
   "metadata": {},
   "source": [
    "(ii)"
   ]
  },
  {
   "cell_type": "code",
   "execution_count": 2,
   "id": "f4c1814d",
   "metadata": {},
   "outputs": [
    {
     "name": "stdout",
     "output_type": "stream",
     "text": [
      "15\n"
     ]
    }
   ],
   "source": [
    "n=4\n",
    "i=0\n",
    "s=1\n",
    "while i <n :\n",
    "    if i%2==0:\n",
    "        s*=i+3\n",
    "       \n",
    "    i=i+1\n",
    "    \n",
    "\n",
    "print(s)"
   ]
  },
  {
   "cell_type": "markdown",
   "id": "c9fafc18",
   "metadata": {},
   "source": [
    "2."
   ]
  },
  {
   "cell_type": "code",
   "execution_count": 38,
   "id": "d289cb81",
   "metadata": {},
   "outputs": [],
   "source": [
    "Jours={'0':'Lundi', '1':'Mardi', '2':'Mercredi', '3':'Jeudi','4' :'vendredi', '5':'Samedi', '6':'Dimanche'}\n",
    "numerojour=3\n",
    "\n",
    "if (numerojour>=0) and (numerojour<=4):\n",
    "    for numero, jour in Jours.items():\n",
    "                if numero==numerojour:\n",
    "                        print (jour)\n",
    "else :\n",
    "         print (\"Week-end\")\n",
    "\n",
    "\n",
    "   "
   ]
  },
  {
   "cell_type": "markdown",
   "id": "03007502",
   "metadata": {},
   "source": [
    "3."
   ]
  },
  {
   "cell_type": "code",
   "execution_count": 36,
   "id": "e13efeb1",
   "metadata": {},
   "outputs": [
    {
     "name": "stdout",
     "output_type": "stream",
     "text": [
      "Le mois de numero  0  a 31 jours\n"
     ]
    }
   ],
   "source": [
    "numeromois=0\n",
    "\n",
    "if numeromois%2 :\n",
    "    if numeromois==1:\n",
    "        print(\"Le mois de numero \",numeromois,\" a 28 jours\")\n",
    "    else:\n",
    "        print(\"Le mois de numero \",numeromois,\" a 30 jours\")\n",
    "else :\n",
    "    print(\"Le mois de numero \",numeromois,\" a 31 jours\")"
   ]
  },
  {
   "cell_type": "markdown",
   "id": "c9224f50",
   "metadata": {},
   "source": [
    "4."
   ]
  },
  {
   "cell_type": "code",
   "execution_count": 43,
   "id": "6afb7d68",
   "metadata": {},
   "outputs": [
    {
     "name": "stdout",
     "output_type": "stream",
     "text": [
      "Fawaz\n",
      "Fawaz\n",
      "Fawaz\n",
      "\n",
      "\n",
      "Fawaz\n",
      "Fawaz\n",
      "Fawaz\n"
     ]
    }
   ],
   "source": [
    "nom=\"Fawaz\"\n",
    "a=\"aaa\"\n",
    "n=3\n",
    "i=0\n",
    "j=0\n",
    "while i<3:\n",
    "    print(nom)\n",
    "    i=i+1\n",
    "    \n",
    "print(\"\\n\")\n",
    "for j in a :\n",
    "    print(nom)"
   ]
  },
  {
   "cell_type": "markdown",
   "id": "64b24967",
   "metadata": {},
   "source": [
    "5."
   ]
  },
  {
   "cell_type": "markdown",
   "id": "789153ad",
   "metadata": {},
   "source": [
    "6.\n"
   ]
  },
  {
   "cell_type": "code",
   "execution_count": null,
   "id": "9609dd31",
   "metadata": {},
   "outputs": [],
   "source": [
    "x=0\n",
    "i=0\n",
    "while i <30:\n",
    "    x="
   ]
  },
  {
   "cell_type": "markdown",
   "id": "42f1ab88",
   "metadata": {},
   "source": [
    "7.\n",
    "a)"
   ]
  },
  {
   "cell_type": "code",
   "execution_count": null,
   "id": "883e31c0",
   "metadata": {},
   "outputs": [],
   "source": [
    "annee = 2004\n",
    "if(annee%4==0 and annee%100!=0 or annee%400==0):\n",
    "    print(\"L'annee est une annee bissextile!\")\n",
    "else:\n",
    "    print(\"L'annee n'est pas une annee bissextile!\")"
   ]
  },
  {
   "cell_type": "markdown",
   "id": "d0fa79ae",
   "metadata": {},
   "source": [
    "b)"
   ]
  },
  {
   "cell_type": "code",
   "execution_count": null,
   "id": "792406d3",
   "metadata": {},
   "outputs": [],
   "source": []
  },
  {
   "cell_type": "markdown",
   "id": "dba3deaf",
   "metadata": {},
   "source": [
    "8.\n",
    "a)"
   ]
  },
  {
   "cell_type": "code",
   "execution_count": null,
   "id": "cfe1b4e1",
   "metadata": {},
   "outputs": [],
   "source": [
    "n=15\n",
    "for n in range(0,n):\n",
    "   if n > 1:\n",
    "       for i in range(2,n):\n",
    "           if (n % i) == 0:\n",
    "               break\n",
    "       else:\n",
    "           print(n)"
   ]
  },
  {
   "cell_type": "code",
   "execution_count": null,
   "id": "16657de2",
   "metadata": {},
   "outputs": [],
   "source": []
  },
  {
   "cell_type": "code",
   "execution_count": null,
   "id": "7a6a7203",
   "metadata": {},
   "outputs": [],
   "source": []
  }
 ],
 "metadata": {
  "kernelspec": {
   "display_name": "Python 3",
   "language": "python",
   "name": "python3"
  },
  "language_info": {
   "codemirror_mode": {
    "name": "ipython",
    "version": 3
   },
   "file_extension": ".py",
   "mimetype": "text/x-python",
   "name": "python",
   "nbconvert_exporter": "python",
   "pygments_lexer": "ipython3",
   "version": "3.8.5"
  }
 },
 "nbformat": 4,
 "nbformat_minor": 5
}
