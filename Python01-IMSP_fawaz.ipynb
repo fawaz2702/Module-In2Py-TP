{
 "cells": [
  {
   "cell_type": "markdown",
   "id": "134b360b",
   "metadata": {},
   "source": [
    "1.\n",
    "(i)"
   ]
  },
  {
   "cell_type": "code",
   "execution_count": 1,
   "id": "d84ba975",
   "metadata": {},
   "outputs": [
    {
     "name": "stdout",
     "output_type": "stream",
     "text": [
      "10\n"
     ]
    }
   ],
   "source": [
    "n=4\n",
    "i=0\n",
    "s=0\n",
    "while i <n :\n",
    "    if i%2:\n",
    "        s+=i+3\n",
    "       \n",
    "    i=i+1\n",
    "    \n",
    "\n",
    "print(s)"
   ]
  },
  {
   "cell_type": "markdown",
   "id": "c1eeaf90",
   "metadata": {},
   "source": [
    "(ii)"
   ]
  },
  {
   "cell_type": "code",
   "execution_count": 2,
   "id": "d14b4a3c",
   "metadata": {},
   "outputs": [
    {
     "name": "stdout",
     "output_type": "stream",
     "text": [
      "15\n"
     ]
    }
   ],
   "source": [
    "n=4\n",
    "i=0\n",
    "s=1\n",
    "while i <n :\n",
    "    if i%2==0:\n",
    "        s*=i+3\n",
    "       \n",
    "    i=i+1\n",
    "    \n",
    "\n",
    "print(s)"
   ]
  },
  {
   "cell_type": "markdown",
   "id": "cce5dc68",
   "metadata": {},
   "source": [
    "2."
   ]
  },
  {
   "cell_type": "code",
   "execution_count": 38,
   "id": "7e9a266b",
   "metadata": {},
   "outputs": [],
   "source": [
    "Jours={'0':'Lundi', '1':'Mardi', '2':'Mercredi', '3':'Jeudi','4' :'vendredi', '5':'Samedi', '6':'Dimanche'}\n",
    "numerojour=3\n",
    "\n",
    "if (numerojour>=0) and (numerojour<=4):\n",
    "    for numero, jour in Jours.items():\n",
    "                if numero==numerojour:\n",
    "                        print (jour)\n",
    "else :\n",
    "         print (\"Week-end\")\n",
    "\n",
    "\n",
    "   "
   ]
  },
  {
   "cell_type": "markdown",
   "id": "3e2f3788",
   "metadata": {},
   "source": [
    "3."
   ]
  },
  {
   "cell_type": "code",
   "execution_count": 36,
   "id": "5dc07e36",
   "metadata": {},
   "outputs": [
    {
     "name": "stdout",
     "output_type": "stream",
     "text": [
      "Le mois de numero  0  a 31 jours\n"
     ]
    }
   ],
   "source": [
    "numeromois=0\n",
    "\n",
    "if numeromois%2 :\n",
    "    if numeromois==1:\n",
    "        print(\"Le mois de numero \",numeromois,\" a 28 jours\")\n",
    "    else:\n",
    "        print(\"Le mois de numero \",numeromois,\" a 30 jours\")\n",
    "else :\n",
    "    print(\"Le mois de numero \",numeromois,\" a 31 jours\")"
   ]
  },
  {
   "cell_type": "markdown",
   "id": "29814bd6",
   "metadata": {},
   "source": [
    "4."
   ]
  },
  {
   "cell_type": "code",
   "execution_count": 43,
   "id": "d4ba9d86",
   "metadata": {},
   "outputs": [
    {
     "name": "stdout",
     "output_type": "stream",
     "text": [
      "Fawaz\n",
      "Fawaz\n",
      "Fawaz\n",
      "\n",
      "\n",
      "Fawaz\n",
      "Fawaz\n",
      "Fawaz\n"
     ]
    }
   ],
   "source": [
    "nom=\"Fawaz\"\n",
    "a=\"aaa\"\n",
    "n=3\n",
    "i=0\n",
    "j=0\n",
    "while i<3:\n",
    "    print(nom)\n",
    "    i=i+1\n",
    "    \n",
    "print(\"\\n\")\n",
    "for j in a :\n",
    "    print(nom)"
   ]
  },
  {
   "cell_type": "markdown",
   "id": "28853be7",
   "metadata": {},
   "source": [
    "5."
   ]
  },
  {
   "cell_type": "markdown",
   "id": "ccf04e55",
   "metadata": {},
   "source": [
    "6.\n"
   ]
  },
  {
   "cell_type": "code",
   "execution_count": null,
   "id": "b865c772",
   "metadata": {},
   "outputs": [],
   "source": [
    "x=0\n",
    "i=0\n",
    "while i <30:\n",
    "    x="
   ]
  }
 ],
 "metadata": {
  "kernelspec": {
   "display_name": "Python 3",
   "language": "python",
   "name": "python3"
  },
  "language_info": {
   "codemirror_mode": {
    "name": "ipython",
    "version": 3
   },
   "file_extension": ".py",
   "mimetype": "text/x-python",
   "name": "python",
   "nbconvert_exporter": "python",
   "pygments_lexer": "ipython3",
   "version": "3.8.5"
  }
 },
 "nbformat": 4,
 "nbformat_minor": 5
}
