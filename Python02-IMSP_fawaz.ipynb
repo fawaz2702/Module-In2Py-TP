{
 "cells": [
  {
   "cell_type": "markdown",
   "id": "91191ff4",
   "metadata": {},
   "source": [
    "1."
   ]
  },
  {
   "cell_type": "code",
   "execution_count": 2,
   "id": "337e7976",
   "metadata": {},
   "outputs": [
    {
     "name": "stdout",
     "output_type": "stream",
     "text": [
      "5.656854249492381\n"
     ]
    }
   ],
   "source": [
    "import math\n",
    "def function(x,y):\n",
    "    return math.sqrt(x**(2+y))/x**(-1)+2*math.sin(y)\n",
    "\n",
    "print(function(2,3))"
   ]
  },
  {
   "cell_type": "markdown",
   "id": "28854df8",
   "metadata": {},
   "source": [
    "2."
   ]
  },
  {
   "cell_type": "code",
   "execution_count": 6,
   "id": "45d3fe12",
   "metadata": {},
   "outputs": [
    {
     "name": "stdout",
     "output_type": "stream",
     "text": [
      "8\n"
     ]
    }
   ],
   "source": [
    "def function_puissance(b,n):\n",
    "    c=1\n",
    "    i=0\n",
    "    while(i<n):\n",
    "        c*=b\n",
    "        \n",
    "        i=i+1\n",
    "    return c;\n",
    "print(function_puissance(2,3))"
   ]
  },
  {
   "cell_type": "markdown",
   "id": "c9fe6958",
   "metadata": {},
   "source": [
    "3. a)"
   ]
  },
  {
   "cell_type": "code",
   "execution_count": 12,
   "id": "e2300600",
   "metadata": {},
   "outputs": [
    {
     "name": "stdout",
     "output_type": "stream",
     "text": [
      "2.0\n"
     ]
    }
   ],
   "source": [
    "\n",
    "def arithmetic_mean(a,b):\n",
    "    return (a+b)/2\n",
    "\n",
    "def geometric_mean(a,b):\n",
    "    return (a*b)**(1/2)\n",
    "\n",
    "print(geometric_mean(2,2))"
   ]
  },
  {
   "cell_type": "markdown",
   "id": "4a5b50a1",
   "metadata": {},
   "source": [
    "b)"
   ]
  },
  {
   "cell_type": "code",
   "execution_count": 17,
   "id": "e7f6fb95",
   "metadata": {},
   "outputs": [
    {
     "name": "stdout",
     "output_type": "stream",
     "text": [
      "2.000000000000001\n"
     ]
    }
   ],
   "source": [
    "def celcius_to_fahrenheit(val_celcius):\n",
    "    return ((val_celcius*(9/5)) +32)\n",
    "\n",
    "def fahrenheit_to_celcius(val_fahrenheit):\n",
    "    return ((val_fahrenheit-32)*(5/9))\n",
    "\n",
    "print(fahrenheit_to_celcius(35.6))"
   ]
  },
  {
   "cell_type": "markdown",
   "id": "7b48b209",
   "metadata": {},
   "source": [
    "c)"
   ]
  },
  {
   "cell_type": "code",
   "execution_count": 23,
   "id": "a486d546",
   "metadata": {},
   "outputs": [
    {
     "name": "stdout",
     "output_type": "stream",
     "text": [
      "1.0000003575641672\n"
     ]
    }
   ],
   "source": [
    "import math\n",
    "\n",
    "def degrees_to_radians(val_degrees):\n",
    "    return (val_degrees*(180/math.pi))\n",
    "\n",
    "def radians_to_degrees(val_radians):\n",
    "    return (val_radians*math.pi)/(180)\n",
    "\n",
    "print(radians_to_degrees(57.2958))"
   ]
  },
  {
   "cell_type": "markdown",
   "id": "6f33a6fb",
   "metadata": {},
   "source": [
    "d)"
   ]
  },
  {
   "cell_type": "code",
   "execution_count": 28,
   "id": "5ab09414",
   "metadata": {},
   "outputs": [
    {
     "name": "stdout",
     "output_type": "stream",
     "text": [
      "50.26548245743669\n"
     ]
    }
   ],
   "source": [
    "import math\n",
    "\n",
    "def circumference(rayon):\n",
    "    return (2*rayon*math.pi)\n",
    "\n",
    "def area(rayon):\n",
    "    return (math.pi*(rayon)**2)\n",
    "\n",
    "print(area(4))"
   ]
  },
  {
   "cell_type": "markdown",
   "id": "847d187b",
   "metadata": {},
   "source": [
    "4. a)"
   ]
  },
  {
   "cell_type": "code",
   "execution_count": 33,
   "id": "638f994f",
   "metadata": {},
   "outputs": [
    {
     "name": "stdout",
     "output_type": "stream",
     "text": [
      "Entrer premier nombre :11\n",
      "Entrer deuxième nombre :2\n",
      "Leur moyenne arthmétique est  6.5  \n",
      "Leur moyenne geométrique est  4.69041575982343  \n",
      "----------------------------------------------\n",
      "Entrer premier nombre :2\n",
      "Entrer deuxième nombre :3\n",
      "Leur moyenne arthmétique est  2.5  \n",
      "Leur moyenne geométrique est  2.449489742783178  \n",
      "----------------------------------------------\n",
      "Entrer premier nombre :5\n",
      "Entrer deuxième nombre :8\n",
      "Leur moyenne arthmétique est  6.5  \n",
      "Leur moyenne geométrique est  6.324555320336759  \n",
      "----------------------------------------------\n",
      "Entrer premier nombre :6\n",
      "Entrer deuxième nombre :4\n",
      "Leur moyenne arthmétique est  5.0  \n",
      "Leur moyenne geométrique est  4.898979485566356  \n",
      "----------------------------------------------\n",
      "Entrer premier nombre :7\n",
      "Entrer deuxième nombre :8\n",
      "Leur moyenne arthmétique est  7.5  \n",
      "Leur moyenne geométrique est  7.483314773547883  \n",
      "----------------------------------------------\n",
      "Entrer premier nombre :9\n",
      "Entrer deuxième nombre :6\n",
      "Leur moyenne arthmétique est  7.5  \n",
      "Leur moyenne geométrique est  7.3484692283495345  \n",
      "----------------------------------------------\n",
      "Entrer premier nombre :4\n",
      "Entrer deuxième nombre :8\n",
      "Leur moyenne arthmétique est  6.0  \n",
      "Leur moyenne geométrique est  5.656854249492381  \n",
      "----------------------------------------------\n",
      "Entrer premier nombre :9\n",
      "Entrer deuxième nombre :3\n",
      "Leur moyenne arthmétique est  6.0  \n",
      "Leur moyenne geométrique est  5.196152422706632  \n",
      "----------------------------------------------\n",
      "Entrer premier nombre :2\n",
      "Entrer deuxième nombre :15\n",
      "Leur moyenne arthmétique est  8.5  \n",
      "Leur moyenne geométrique est  5.477225575051661  \n",
      "----------------------------------------------\n",
      "Entrer premier nombre :21\n",
      "Entrer deuxième nombre :7\n",
      "Leur moyenne arthmétique est  14.0  \n",
      "Leur moyenne geométrique est  12.12435565298214  \n",
      "----------------------------------------------\n"
     ]
    }
   ],
   "source": [
    "def avggeom():\n",
    "    for i in range(0,10):\n",
    "        a=input(\"Entrer premier nombre :\")\n",
    "        b=input(\"Entrer deuxième nombre :\")\n",
    "        print(\"Leur moyenne arthmétique est \",arithmetic_mean(int(a),int(b)),\" \")\n",
    "        print(\"Leur moyenne geométrique est \",geometric_mean(int(a),int(b)),\" \")\n",
    "        print(\"----------------------------------------------\")\n",
    "    \n",
    "avggeom()"
   ]
  },
  {
   "cell_type": "markdown",
   "id": "2b03a94e",
   "metadata": {},
   "source": [
    "b)"
   ]
  },
  {
   "cell_type": "code",
   "execution_count": 36,
   "id": "b0ddfb54",
   "metadata": {},
   "outputs": [
    {
     "name": "stdout",
     "output_type": "stream",
     "text": [
      "Entrer abscice  du premier point:0\n",
      "Entrer ordonné  du premier point  :0\n",
      "Entrer abscice  du deuxième point:1\n",
      "Entrer ordonné  du deuxième point1\n",
      "Leur moyenne arthmétique est  1.4142135623730951  \n"
     ]
    }
   ],
   "source": [
    "import math\n",
    "\n",
    "def distance(a,b,c,d):\n",
    "    return(math.sqrt(((c-a)**2)+((d-a)**2)))\n",
    "\n",
    "def distancefn():\n",
    "        a=input(\"Entrer abscice  du premier point:\")\n",
    "        b=input(\"Entrer ordonné  du premier point  :\")\n",
    "        c=input(\"Entrer abscice  du deuxième point:\")\n",
    "        d=input(\"Entrer ordonné  du deuxième point\")\n",
    "        print(\"Leur moyenne arthmétique est \",distance(int(a),int(b),int(c),int(d)),\" \")\n",
    "    \n",
    "def perimeter_triangle(distance_a,distance_b,distance_c):\n",
    "    return (distance_a+distance_b+distance_c)\n",
    "\n",
    "def area_triangle(base,hauteur):\n",
    "    return (base*hauteur)/2\n",
    "        \n",
    "distancefn()\n",
    "\n"
   ]
  },
  {
   "cell_type": "markdown",
   "id": "6e42812f",
   "metadata": {},
   "source": [
    "5.\n"
   ]
  },
  {
   "cell_type": "code",
   "execution_count": null,
   "id": "7a62a2f0",
   "metadata": {},
   "outputs": [
    {
     "name": "stdout",
     "output_type": "stream",
     "text": [
      "1-Calculer le factorielle d'un nombre\n",
      "2-Evaluer les solutions d'un polynomes du second degré\n",
      "3-Quitter\n"
     ]
    }
   ],
   "source": [
    "k=1\n",
    "def factorial(n):\n",
    "    s=1;\n",
    "    if(n>0):\n",
    "        for i in range(1,n+1):\n",
    "            s*=i\n",
    "    else :\n",
    "        s=1\n",
    "    \n",
    "    return s\n",
    "\n",
    "\n",
    "def evalution_second_degree():\n",
    "    print(\"ax²+bx+c\")\n",
    "    a=input(\"Entrer a :\")\n",
    "    b=input(\"Entrer b :\")\n",
    "    c=input(\"Entrer c :\")\n",
    "    delta=(b**2)-(4*a*c)\n",
    "    if(delta>0): \n",
    "        r1=(0-b-math.sqrt(delta))/(2*a)\n",
    "        r2=(0-b+math.sqrt(delta))/(2*a)\n",
    "        print(\"Le polynome a pour soluions \",r1,\" et \",r2,\" \")\n",
    "    elif(delta==0):\n",
    "        r0=(0-b)/(2*a)\n",
    "        print(\"Le polynome a pour soluion \",r0,\" \")\n",
    "    else:\n",
    "        print(\"Le polynome n'a pas  de soluion \")\n",
    "\n",
    "\n",
    "\n",
    "print(\"1-Calculer le factorielle d'un nombre\")\n",
    "print(\"2-Evaluer les solutions d'un polynomes du second degré\")\n",
    "print(\"3-Quitter\")\n",
    "choix=input(\"Entrer votre choix \")\n",
    "if(choix==1):\n",
    "            n=input(\"Entrer n :\")\n",
    "            print(\"Le factorielle est \",factorial(n),\" \")\n",
    "elif (choix==2):\n",
    "            evalution_second_degree()\n",
    "elif(choix==3):\n",
    "            k=0\n",
    "                "
   ]
  },
  {
   "cell_type": "code",
   "execution_count": null,
   "id": "b8bf89cb",
   "metadata": {},
   "outputs": [],
   "source": []
  },
  {
   "cell_type": "code",
   "execution_count": null,
   "id": "35106f7d",
   "metadata": {},
   "outputs": [],
   "source": []
  },
  {
   "cell_type": "code",
   "execution_count": null,
   "id": "c565c509",
   "metadata": {},
   "outputs": [],
   "source": []
  }
 ],
 "metadata": {
  "kernelspec": {
   "display_name": "Python 3",
   "language": "python",
   "name": "python3"
  },
  "language_info": {
   "codemirror_mode": {
    "name": "ipython",
    "version": 3
   },
   "file_extension": ".py",
   "mimetype": "text/x-python",
   "name": "python",
   "nbconvert_exporter": "python",
   "pygments_lexer": "ipython3",
   "version": "3.8.5"
  }
 },
 "nbformat": 4,
 "nbformat_minor": 5
}
