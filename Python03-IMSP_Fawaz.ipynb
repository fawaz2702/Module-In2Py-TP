{
 "cells": [
  {
   "cell_type": "markdown",
   "metadata": {},
   "source": [
    "1- a)"
   ]
  },
  {
   "cell_type": "code",
   "execution_count": 127,
   "metadata": {},
   "outputs": [],
   "source": [
    "def M(str1,str2):\n",
    "    result = ''\n",
    "    i1 = i2 = 0\n",
    "    for i in range(len(str1)+len(str2)):\n",
    "        if i1 < len(str1) and i2 <len(str2):\n",
    "            if(str1[i1] > str2[i2]):\n",
    "                result += str2[i2]\n",
    "                i2+=1\n",
    "            else:\n",
    "                result += str1[i1]\n",
    "                i1+=1\n",
    "        elif i1 < len(str1):\n",
    "            result += str1[i1:]\n",
    "        else:\n",
    "            result += str2[i2:]\n",
    "    return result"
   ]
  },
  {
   "cell_type": "code",
   "execution_count": 116,
   "metadata": {},
   "outputs": [
    {
     "data": {
      "text/plain": [
       "'abcdde'"
      ]
     },
     "execution_count": 116,
     "metadata": {},
     "output_type": "execute_result"
    }
   ],
   "source": [
    "M('bce','add')"
   ]
  },
  {
   "cell_type": "markdown",
   "metadata": {},
   "source": [
    "b)"
   ]
  },
  {
   "cell_type": "code",
   "execution_count": 17,
   "metadata": {},
   "outputs": [],
   "source": []
  },
  {
   "cell_type": "code",
   "execution_count": 117,
   "metadata": {},
   "outputs": [
    {
     "data": {
      "text/plain": [
       "'abbccddd'"
      ]
     },
     "execution_count": 117,
     "metadata": {},
     "output_type": "execute_result"
    }
   ],
   "source": [
    "\n",
    "\n",
    "M('bdd','abccd')"
   ]
  },
  {
   "cell_type": "markdown",
   "metadata": {},
   "source": [
    "c)"
   ]
  },
  {
   "cell_type": "code",
   "execution_count": 129,
   "metadata": {},
   "outputs": [],
   "source": [
    "def S(ch):\n",
    "    if len(ch) == 1:\n",
    "        return ch\n",
    "    \n",
    "    elif len(ch) == 2:\n",
    "        return M(ch[:1], ch[1:])\n",
    "    \n",
    "    else: \n",
    "        ch1 = S(ch[:int(len(ch)/2)])\n",
    "        ch2 = S(ch[int(len(ch)/2):])\n",
    "        return M(ch1, ch2)"
   ]
  },
  {
   "cell_type": "code",
   "execution_count": 134,
   "metadata": {},
   "outputs": [
    {
     "data": {
      "text/plain": [
       "'adfgqqs'"
      ]
     },
     "execution_count": 134,
     "metadata": {},
     "output_type": "execute_result"
    }
   ],
   "source": [
    "S('qdqsfga')"
   ]
  },
  {
   "cell_type": "markdown",
   "metadata": {},
   "source": [
    "d)"
   ]
  },
  {
   "cell_type": "code",
   "execution_count": 140,
   "metadata": {},
   "outputs": [],
   "source": [
    "def ModifiedM(str1,str2):\n",
    "    result = ''\n",
    "    i1 = i2 = 0\n",
    "    for i in range(len(str1)+len(str2)):\n",
    "        if i1 < len(str1) and i2 <len(str2):\n",
    "            if(str1[i1] > str2[i2]):\n",
    "                result += str2[i2]\n",
    "                i2+=1\n",
    "            else:\n",
    "                result += str1[i1]\n",
    "                i1+=1\n",
    "        elif i1 < len(str1):\n",
    "            result += str1[i1:]\n",
    "        else:\n",
    "            result += str2[i2:]\n",
    "    return result"
   ]
  },
  {
   "cell_type": "code",
   "execution_count": 141,
   "metadata": {},
   "outputs": [
    {
     "data": {
      "text/plain": [
       "'abaddbcfdbcfdbcfdbcf'"
      ]
     },
     "execution_count": 141,
     "metadata": {},
     "output_type": "execute_result"
    }
   ],
   "source": [
    "ModifiedM('bad' , 'adbcf')"
   ]
  },
  {
   "cell_type": "markdown",
   "metadata": {},
   "source": [
    "e) \n",
    "i."
   ]
  },
  {
   "cell_type": "code",
   "execution_count": 47,
   "metadata": {},
   "outputs": [],
   "source": [
    "def isVowel(char):\n",
    "    return char in 'aeiouyAEIOUY'\n",
    "\n",
    "def premiervoyelle(phrase):\n",
    "    \n",
    "    premier = ''\n",
    "    for character  in phrase:\n",
    "        if isVowel(character):\n",
    "            premier = character\n",
    "            break\n",
    "    if premier == '':\n",
    "        print('La phrase ne contient pas de voyelle')\n",
    "    else:\n",
    "        print('La premiere voyelle est',premier)\n"
   ]
  },
  {
   "cell_type": "code",
   "execution_count": 48,
   "metadata": {},
   "outputs": [
    {
     "name": "stdout",
     "output_type": "stream",
     "text": [
      "La premiere voyelle est o\n"
     ]
    }
   ],
   "source": [
    "premiervoyelle('Bonjour les amis')"
   ]
  },
  {
   "cell_type": "markdown",
   "metadata": {},
   "source": [
    "ii)"
   ]
  },
  {
   "cell_type": "code",
   "execution_count": 53,
   "metadata": {},
   "outputs": [],
   "source": [
    "def nombrevoyelle(phrase):\n",
    "    voyelle = [character for character in phrase if isVowel(character)]\n",
    "    print('Votre phrase contient',len(voyelle),'voyelle(s)')"
   ]
  },
  {
   "cell_type": "code",
   "execution_count": 54,
   "metadata": {},
   "outputs": [
    {
     "name": "stdout",
     "output_type": "stream",
     "text": [
      "Votre phrase contient 6 voyelle(s)\n"
     ]
    }
   ],
   "source": [
    "nombrevoyelle('Bonjour les amis')"
   ]
  },
  {
   "cell_type": "code",
   "execution_count": null,
   "metadata": {},
   "outputs": [],
   "source": [
    "iii)"
   ]
  },
  {
   "cell_type": "code",
   "execution_count": 64,
   "metadata": {},
   "outputs": [
    {
     "name": "stdout",
     "output_type": "stream",
     "text": [
      "A\n",
      "votre lettre b\n",
      "B\n",
      "votre lettre 1\n",
      "Vous avez entrer un entier\n"
     ]
    }
   ],
   "source": [
    "def transmajuscule(lettre):\n",
    "   \n",
    "    while not(lettre.isdigit()):\n",
    "        print(lettre.upper())\n",
    "        lettre = input('votre lettre ')\n",
    "    print('Vous avez entrer un entier')\n",
    "    \n",
    "transmajuscule('a')"
   ]
  },
  {
   "cell_type": "markdown",
   "metadata": {},
   "source": [
    "vi)"
   ]
  },
  {
   "cell_type": "code",
   "execution_count": 70,
   "metadata": {},
   "outputs": [
    {
     "name": "stdout",
     "output_type": "stream",
     "text": [
      "Apparence de A : 2\n",
      "Apparence de E : 2\n",
      "Apparence de I : 1\n",
      "Apparence de O : 0\n",
      "Apparence de U : 0\n",
      "Apparence de Y : 0\n"
     ]
    }
   ],
   "source": [
    "def comptevoyellemajiscule(phrase):\n",
    "\n",
    "    if phrase.isupper():\n",
    "        voyelle = [character for character in phrase if isVowel(character)]\n",
    "        for i in 'AEIOUY':\n",
    "            print('Apparence de',i,':',voyelle.count(i))\n",
    "    else:\n",
    "        print('Votre phrase contient des caracteres miniscules')\n",
    "        \n",
    "comptevoyellemajiscule('JE VAIS MANGER')"
   ]
  },
  {
   "cell_type": "markdown",
   "metadata": {},
   "source": [
    "v)"
   ]
  },
  {
   "cell_type": "code",
   "execution_count": 76,
   "metadata": {},
   "outputs": [
    {
     "name": "stdout",
     "output_type": "stream",
     "text": [
      "b > c\n"
     ]
    }
   ],
   "source": [
    "def compare_b_et_c(phrase):\n",
    "\n",
    "    b = phrase.count('b') + phrase.count('B')\n",
    "    c = phrase.count('c') + phrase.count('C')\n",
    "    if b < c:\n",
    "        print('b < c')\n",
    "    elif b > c:\n",
    "        print('b > c')\n",
    "    else:\n",
    "        print('b = c')\n",
    "\n",
    "compare_b_et_c('baba et cira')"
   ]
  },
  {
   "cell_type": "code",
   "execution_count": null,
   "metadata": {},
   "outputs": [],
   "source": [
    "vi)"
   ]
  },
  {
   "cell_type": "code",
   "execution_count": 97,
   "metadata": {},
   "outputs": [
    {
     "data": {
      "text/plain": [
       "'Bonjour Les Amis Et La Famille'"
      ]
     },
     "execution_count": 97,
     "metadata": {},
     "output_type": "execute_result"
    }
   ],
   "source": [
    "def first_capitale(phrase):\n",
    "    phrase=phrase.title()\n",
    "    return phrase\n",
    "first_capitale('bonjour les amis et la famille')"
   ]
  },
  {
   "cell_type": "markdown",
   "metadata": {},
   "source": [
    "vii)"
   ]
  },
  {
   "cell_type": "code",
   "execution_count": 104,
   "metadata": {},
   "outputs": [
    {
     "name": "stdout",
     "output_type": "stream",
     "text": [
      "C'est un palindrome\n"
     ]
    }
   ],
   "source": [
    "def ifpalindrome(phrase):\n",
    "    st=\"\".join(reversed(phrase)) \n",
    "    if(st==phrase):\n",
    "        print('C\\'est un palindrome')\n",
    "    else:\n",
    "        print('Ce n\\'est pas un palindrome')\n",
    "            \n",
    "ifpalindrome('aba')\n"
   ]
  },
  {
   "cell_type": "markdown",
   "metadata": {},
   "source": [
    "viii)"
   ]
  },
  {
   "cell_type": "code",
   "execution_count": 108,
   "metadata": {},
   "outputs": [
    {
     "name": "stdout",
     "output_type": "stream",
     "text": [
      "Votre phrase contient 2  mots \n"
     ]
    }
   ],
   "source": [
    "def compte_mot(phrase,mot):\n",
    "    print('Votre phrase contient',phrase.count(mot),' mots ')\n",
    "\n",
    "compte_mot('salut papa et maman je veux appeler papa','papa')"
   ]
  },
  {
   "cell_type": "markdown",
   "metadata": {},
   "source": [
    "f)"
   ]
  },
  {
   "cell_type": "code",
   "execution_count": 142,
   "metadata": {},
   "outputs": [
    {
     "name": "stdout",
     "output_type": "stream",
     "text": [
      "the lowest posible score is 1 the highest posible score is 10\n"
     ]
    }
   ],
   "source": [
    "score = (1, 2, 3, 4, 5, 6, 7, 8, 9, 10)\n",
    "print('the lowest posible score is',score[0],'the highest posible score is',score[-1])"
   ]
  },
  {
   "cell_type": "code",
   "execution_count": null,
   "metadata": {},
   "outputs": [],
   "source": []
  }
 ],
 "metadata": {
  "kernelspec": {
   "display_name": "Python 3",
   "language": "python",
   "name": "python3"
  },
  "language_info": {
   "codemirror_mode": {
    "name": "ipython",
    "version": 3
   },
   "file_extension": ".py",
   "mimetype": "text/x-python",
   "name": "python",
   "nbconvert_exporter": "python",
   "pygments_lexer": "ipython3",
   "version": "3.8.5"
  }
 },
 "nbformat": 4,
 "nbformat_minor": 4
}
